{
 "cells": [
  {
   "cell_type": "markdown",
   "metadata": {},
   "source": [
    "# Texture feature value simulator\n",
    "Copyright (c) 2016 Tetsuya Shinaji\n",
    "\n",
    "This software and figures are released under the MIT License.\n",
    "\n",
    "http://opensource.org/licenses/mit-license.php"
   ]
  },
  {
   "cell_type": "code",
   "execution_count": null,
   "metadata": {},
   "outputs": [],
   "source": [
    "import numpy as np\n",
    "from matplotlib import pyplot as plt\n",
    "import sys\n",
    "sys.path.append('../')\n",
    "from TextureAnalysis import GLCM_3D, GLSZM_3D, NGTDM, NGTDM_3D, GLHA\n",
    "from ipywidgets import interact\n",
    "from IPython.core.pylabtools import figsize\n",
    "import pandas as pd\n",
    "from IPython.display import display\n",
    "from matplotlib import gridspec\n",
    "from mpl_toolkits.axes_grid1 import make_axes_locatable\n",
    "\n",
    "def get_circle_img(r):\n",
    "    y, x = np.ogrid[-64:128-64, -64:128-64]\n",
    "    mask = x*x + y*y <= r*r\n",
    "    array = np.zeros((1, 128, 128))\n",
    "    array[0, mask] = 1\n",
    "    return array, np.sqrt(x*x + y*y)\n",
    "\n",
    "def get_half_grad_img():\n",
    "    img = np.zeros((128, 128))\n",
    "    img[:, 0:128] += np.arange(0, 128).reshape(1, -1)\n",
    "    return img.reshape(1, 128, 128)\n",
    "\n",
    "def get_grad_img():\n",
    "    img = np.zeros((128, 128))\n",
    "    img[0:128, :] += np.arange(0, 128).reshape(-1, 1)\n",
    "    img[:, 0:128] += np.arange(0, 128).reshape(1, -1)\n",
    "    return img.reshape(1, 128, 128)\n",
    "\n",
    "def get_half_checkered_img():\n",
    "    img = np.zeros((128, 128))\n",
    "    img[:, 0:128:2] += np.arange(0, 128, 2).reshape(1, -1)\n",
    "    img[:, 1:128:2] += np.arange(0, 128, 2).reshape(1, -1) + 63\n",
    "    return img.reshape(1, 128, 128)\n",
    "\n",
    "def get_checkered_img():\n",
    "    img = np.zeros((128, 128))\n",
    "    img[0:128:2, :] += np.arange(0, 128, 2).reshape(-1, 1)\n",
    "    img[1:128:2, :] += np.arange(0, 128, 2).reshape(-1, 1) + 63\n",
    "    img[:, 0:128:2] += np.arange(0, 128, 2).reshape(1, -1)\n",
    "    img[:, 1:128:2] += np.arange(0, 128, 2).reshape(1, -1) + 63\n",
    "    return img.reshape(1, 128, 128) / 2\n",
    "\n",
    "%matplotlib inline"
   ]
  },
  {
   "cell_type": "markdown",
   "metadata": {},
   "source": [
    "## GLCM: Gray-Level Co-occurrence Matrix"
   ]
  },
  {
   "cell_type": "markdown",
   "metadata": {},
   "source": [
    "![image](./imgs/GLCM.png)"
   ]
  },
  {
   "cell_type": "code",
   "execution_count": null,
   "metadata": {
    "code_folding": []
   },
   "outputs": [],
   "source": [
    "figsize(10, 10)\n",
    "@interact(ptn=[\"hgrad\", \"grad\", \"hchkd\", \"chkd\"], heterogeneity=(0, 100, 1), )\n",
    "def test_glcm_dist(ptn=\"grad\", heterogeneity=0):\n",
    "    rng_seed = 0 \n",
    "    np.random.seed(rng_seed)\n",
    "    #     base_img, distance = get_circle_img(size)\n",
    "    if ptn == \"grad\":\n",
    "        base_img = get_grad_img()\n",
    "    elif ptn == \"hgrad\":\n",
    "        base_img = get_half_grad_img()\n",
    "    elif ptn == \"chkd\":\n",
    "        base_img = get_checkered_img()\n",
    "    elif ptn == \"hchkd\":\n",
    "        base_img = get_half_checkered_img()        \n",
    "           \n",
    "    if heterogeneity > 0:\n",
    "        vmin = base_img.min()\n",
    "        vmax = base_img.max()\n",
    "        example_img =  np.random.normal(\n",
    "            0, (vmax-vmin)/100*heterogeneity,size=base_img.shape) + base_img\n",
    "    else:\n",
    "        example_img = np.array(base_img)\n",
    "    glcm = GLCM_3D(example_img, d=1, level_min=1, level_max=64, threshold=None)\n",
    "    plt.subplot(121)\n",
    "    plt.subplots_adjust(wspace=0.35)\n",
    "    plt.title('Image')\n",
    "    img = plt.imshow(glcm.img[0], vmin=0)\n",
    "    cbar = plt.colorbar(img, fraction=0.046, pad=0.04)\n",
    "    cbar.set_label('Pixel value')\n",
    "    plt.subplot(122)\n",
    "    plt.title('GLCM')\n",
    "    img = plt.imshow(glcm.matrix*100, extent=([1, 64, 64, 1]))\n",
    "    plt.ylabel('Center pixel value')\n",
    "    plt.xlabel('Neighbor pixel value')\n",
    "    cbar = plt.colorbar(img, fraction=0.046, pad=0.04)\n",
    "    cbar.set_label('Probability [%]')\n",
    "    plt.show()\n",
    "    features =pd.DataFrame.from_dict(glcm.features, orient=\"index\")\n",
    "    features.columns = ['Texture feature value']\n",
    "    display(features)"
   ]
  },
  {
   "cell_type": "markdown",
   "metadata": {},
   "source": [
    "## GLSZM: Gray Level Size Zone Matrix"
   ]
  },
  {
   "cell_type": "markdown",
   "metadata": {},
   "source": [
    "![image](./imgs/GLSZM.png)"
   ]
  },
  {
   "cell_type": "code",
   "execution_count": null,
   "metadata": {},
   "outputs": [],
   "source": [
    "GLSZM_3D??"
   ]
  },
  {
   "cell_type": "code",
   "execution_count": null,
   "metadata": {
    "code_folding": []
   },
   "outputs": [],
   "source": [
    "figsize(10, 10)\n",
    "glszm = None\n",
    "@interact(ptn=[\"hgrad\", \"grad\", \"hchkd\", \"chkd\"],\n",
    "          heterogeneity=(0, 100, 1),)\n",
    "def test_glszm_dist(ptn=\"grad\", heterogeneity=0):\n",
    "    rng_seed = 0 \n",
    "    np.random.seed(rng_seed)\n",
    "    #     base_img, distance = get_circle_img(size)\n",
    "    if ptn == \"grad\":\n",
    "        base_img = get_grad_img()\n",
    "    elif ptn == \"hgrad\":\n",
    "        base_img = get_half_grad_img()\n",
    "    elif ptn == \"chkd\":\n",
    "        base_img = get_checkered_img()\n",
    "    elif ptn == \"hchkd\":\n",
    "        base_img = get_half_checkered_img()        \n",
    "           \n",
    "    if heterogeneity > 0:\n",
    "        vmin = base_img.min()\n",
    "        vmax = base_img.max()\n",
    "        example_img =  np.random.normal(\n",
    "            0, (vmax-vmin)/100*heterogeneity,size=base_img.shape) + base_img\n",
    "    else:\n",
    "        example_img = np.array(base_img)\n",
    "\n",
    "    global glszm\n",
    "    glszm = GLSZM_3D(example_img, level_min=1, level_max=64, threshold=None)\n",
    "    plt.subplots_adjust(wspace=0.5)\n",
    "    fig = plt.gcf()\n",
    "    ax1 = plt.subplot(121)\n",
    "    ax1.set_title('Image')\n",
    "    img1 = ax1.imshow(glszm.img[0], vmin=0)\n",
    "    cbar1 = fig.colorbar(img1,fraction=0.046, pad=0.04)\n",
    "    cbar1.set_label('Pixel value')\n",
    "    ax2 = plt.subplot(122)\n",
    "    ax2.set_title('GLSZM')\n",
    "    img2 = ax2.imshow(glszm.matrix, \n",
    "                     aspect=glszm.matrix.shape[1]/glszm.matrix.shape[0],\n",
    "                     extent=[glszm.min_zone_size-0.5, glszm.max_zone_size+0.5,\n",
    "                             glszm.max_level, glszm.min_level],\n",
    "                     )\n",
    "    ax2.set_ylabel('Pixel value')\n",
    "    ax2.set_xlabel('Size')\n",
    "    cbar2 = fig.colorbar(img2, fraction=0.046, pad=0.04)\n",
    "    cbar2.set_label('Number of areas')\n",
    "    x = np.linspace(1, glszm.matrix.shape[1]+1, endpoint=True, num=5)\n",
    "#     plt.xticks(x, x, rotation='vertical')\n",
    "    plt.show()\n",
    "    features =pd.DataFrame.from_dict(glszm.features, orient=\"index\")\n",
    "    features.columns = ['Texture feature value']\n",
    "    display(features)"
   ]
  },
  {
   "cell_type": "markdown",
   "metadata": {},
   "source": [
    "## NGTDM: Neighbourhood Gray-Tone-Difference Matrix"
   ]
  },
  {
   "cell_type": "markdown",
   "metadata": {},
   "source": [
    "![image](./imgs/NGTDM.png)"
   ]
  },
  {
   "cell_type": "code",
   "execution_count": null,
   "metadata": {},
   "outputs": [],
   "source": [
    "figsize(10, 10)\n",
    "ngtdm = None\n",
    "@interact(ptn=[\"hgrad\", \"grad\", \"hchkd\", \"chkd\"],\n",
    "          heterogeneity=(0, 100, 1))\n",
    "def test_ngtdm_dist(ptn=\"grad\", heterogeneity=0, scratch=False):\n",
    "    rng_seed = 0 \n",
    "    np.random.seed(rng_seed)\n",
    "    #     base_img, distance = get_circle_img(size)\n",
    "    if ptn == \"grad\":\n",
    "        base_img = get_grad_img()\n",
    "    elif ptn == \"hgrad\":\n",
    "        base_img = get_half_grad_img()\n",
    "    elif ptn == \"chkd\":\n",
    "        base_img = get_checkered_img()\n",
    "    elif ptn == \"hchkd\":\n",
    "        base_img = get_half_checkered_img()        \n",
    "           \n",
    "    if heterogeneity > 0:\n",
    "        vmin = base_img.min()\n",
    "        vmax = base_img.max()\n",
    "        example_img =  np.random.normal(\n",
    "            0, (vmax-vmin)/100*heterogeneity,size=base_img.shape) + base_img\n",
    "    else:\n",
    "        example_img = np.array(base_img)\n",
    "\n",
    "    if scratch:\n",
    "        example_img[:, :, 63:65] = 128\n",
    "\n",
    "    global ngtdm\n",
    "    ngtdm = NGTDM(example_img[0], level_min=1, level_max=64, threshold=None)\n",
    "    plt.subplots_adjust(wspace=0.5)\n",
    "    fig = plt.gcf()\n",
    "    ax1 = plt.subplot(121)\n",
    "    ax1.set_title('Image')\n",
    "    img1 = ax1.imshow(ngtdm.img, vmin=0)\n",
    "    cbar1 = fig.colorbar(img1,fraction=0.046, pad=0.04)\n",
    "    cbar1.set_label('Pixel value')\n",
    "    ax2 = plt.subplot(122)\n",
    "    ax2.set_title('NGTDM')\n",
    "    img2 = ax2.imshow(ngtdm.s.reshape(ngtdm.s.size, 1), \n",
    "                      aspect=1/ngtdm.s.shape[0],\n",
    "                      extent=[0, 1, ngtdm.level_max, ngtdm.level_min]\n",
    "                     )\n",
    "    ax2.set_ylabel('Pixel value')\n",
    "    ax2.get_xaxis().set_visible(False)\n",
    "    cbar2 = fig.colorbar(img2, fraction=0.046, pad=0.04)\n",
    "    plt.show()\n",
    "    features =pd.DataFrame.from_dict(ngtdm.features, orient=\"index\")\n",
    "    features.columns = ['Texture feature value']\n",
    "    display(features)"
   ]
  },
  {
   "cell_type": "markdown",
   "metadata": {
    "collapsed": true
   },
   "source": [
    "## GLHA: Gray Level Histogram Analysis"
   ]
  },
  {
   "cell_type": "code",
   "execution_count": null,
   "metadata": {},
   "outputs": [],
   "source": [
    "figsize(10, 10)\n",
    "glha = None\n",
    "@interact(ptn=[\"hgrad\", \"grad\", \"hchkd\", \"chkd\"],\n",
    "          heterogeneity=(0, 100, 1))\n",
    "def test_glha_dist(ptn=\"grad\", heterogeneity=0):\n",
    "    rng_seed = 0 \n",
    "    np.random.seed(rng_seed)\n",
    "    #     base_img, distance = get_circle_img(size)\n",
    "    if ptn == \"grad\":\n",
    "        base_img = get_grad_img()\n",
    "    elif ptn == \"hgrad\":\n",
    "        base_img = get_half_grad_img()\n",
    "    elif ptn == \"chkd\":\n",
    "        base_img = get_checkered_img()\n",
    "    elif ptn == \"hchkd\":\n",
    "        base_img = get_half_checkered_img()        \n",
    "           \n",
    "    if heterogeneity > 0:\n",
    "        vmin = base_img.min()\n",
    "        vmax = base_img.max()\n",
    "        example_img =  np.random.normal(\n",
    "            0, (vmax-vmin)/100*heterogeneity,size=base_img.shape) + base_img\n",
    "    else:\n",
    "        example_img = np.array(base_img)\n",
    "\n",
    "    global glha\n",
    "    print(example_img.shape)\n",
    "    glha = GLHA(example_img, level_min=1, level_max=256, threshold=1)\n",
    "    print(glha.features)\n",
    "    plt.subplots_adjust(wspace=0.5)\n",
    "    fig = plt.gcf()\n",
    "    ax1 = plt.subplot(121)\n",
    "    ax1.set_title('A given image')\n",
    "    img1 = ax1.imshow(glha.img[0], vmin=0)\n",
    "    cbar1 = fig.colorbar(img1, fraction=0.046, pad=0.04)\n",
    "    cbar1.set_label('Pixel value')\n",
    "    ax2 = plt.subplot(122)\n",
    "    hst = plt.hist(glha.img.flatten(), bins=256, range=[1, 256])\n",
    "    plt.xlabel('Pixel value')\n",
    "    plt.ylabel('Frequency')\n",
    "    plt.title('Histogram')\n",
    "    ax2.set_aspect(64/hst[0].max())\n",
    "    plt.show()\n",
    "    features =pd.DataFrame.from_dict(glha.features, orient=\"index\")\n",
    "    features.columns = ['Texture feature value']\n",
    "    display(features)"
   ]
  },
  {
   "cell_type": "code",
   "execution_count": null,
   "metadata": {},
   "outputs": [],
   "source": []
  },
  {
   "cell_type": "code",
   "execution_count": null,
   "metadata": {},
   "outputs": [],
   "source": []
  }
 ],
 "metadata": {
  "kernelspec": {
   "display_name": "Python 3",
   "language": "python",
   "name": "python3"
  },
  "language_info": {
   "codemirror_mode": {
    "name": "ipython",
    "version": 3
   },
   "file_extension": ".py",
   "mimetype": "text/x-python",
   "name": "python",
   "nbconvert_exporter": "python",
   "pygments_lexer": "ipython3",
   "version": "3.6.1"
  },
  "toc": {
   "nav_menu": {},
   "number_sections": true,
   "sideBar": true,
   "skip_h1_title": false,
   "title_cell": "Table of Contents",
   "title_sidebar": "Contents",
   "toc_cell": false,
   "toc_position": {},
   "toc_section_display": true,
   "toc_window_display": false
  }
 },
 "nbformat": 4,
 "nbformat_minor": 1
}
